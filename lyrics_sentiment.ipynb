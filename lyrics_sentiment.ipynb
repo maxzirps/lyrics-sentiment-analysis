{
  "nbformat": 4,
  "nbformat_minor": 0,
  "metadata": {
    "colab": {
      "name": "lyrics-sentiment.ipynb",
      "provenance": [],
      "collapsed_sections": [],
      "authorship_tag": "ABX9TyNJ0wrcJiQ/QZIO24v/SwYK"
    },
    "kernelspec": {
      "name": "python3",
      "display_name": "Python 3"
    },
    "language_info": {
      "name": "python"
    }
  },
  "cells": [
    {
      "cell_type": "markdown",
      "metadata": {
        "id": "u2nouOu-qvQE"
      },
      "source": [
        "# Lyrics sentiment analysis"
      ]
    },
    {
      "cell_type": "code",
      "metadata": {
        "colab": {
          "base_uri": "https://localhost:8080/"
        },
        "id": "c3mFVbtbqkJf",
        "outputId": "f0e44d18-22d9-4c95-d510-8b2da5a98fba"
      },
      "source": [
        "!pip install spacy"
      ],
      "execution_count": 1,
      "outputs": [
        {
          "output_type": "stream",
          "text": [
            "Requirement already satisfied: spacy in /usr/local/lib/python3.7/dist-packages (2.2.4)\n",
            "Requirement already satisfied: preshed<3.1.0,>=3.0.2 in /usr/local/lib/python3.7/dist-packages (from spacy) (3.0.5)\n",
            "Requirement already satisfied: setuptools in /usr/local/lib/python3.7/dist-packages (from spacy) (57.4.0)\n",
            "Requirement already satisfied: cymem<2.1.0,>=2.0.2 in /usr/local/lib/python3.7/dist-packages (from spacy) (2.0.5)\n",
            "Requirement already satisfied: murmurhash<1.1.0,>=0.28.0 in /usr/local/lib/python3.7/dist-packages (from spacy) (1.0.5)\n",
            "Requirement already satisfied: requests<3.0.0,>=2.13.0 in /usr/local/lib/python3.7/dist-packages (from spacy) (2.23.0)\n",
            "Requirement already satisfied: tqdm<5.0.0,>=4.38.0 in /usr/local/lib/python3.7/dist-packages (from spacy) (4.62.0)\n",
            "Requirement already satisfied: catalogue<1.1.0,>=0.0.7 in /usr/local/lib/python3.7/dist-packages (from spacy) (1.0.0)\n",
            "Requirement already satisfied: numpy>=1.15.0 in /usr/local/lib/python3.7/dist-packages (from spacy) (1.19.5)\n",
            "Requirement already satisfied: plac<1.2.0,>=0.9.6 in /usr/local/lib/python3.7/dist-packages (from spacy) (1.1.3)\n",
            "Requirement already satisfied: srsly<1.1.0,>=1.0.2 in /usr/local/lib/python3.7/dist-packages (from spacy) (1.0.5)\n",
            "Requirement already satisfied: thinc==7.4.0 in /usr/local/lib/python3.7/dist-packages (from spacy) (7.4.0)\n",
            "Requirement already satisfied: blis<0.5.0,>=0.4.0 in /usr/local/lib/python3.7/dist-packages (from spacy) (0.4.1)\n",
            "Requirement already satisfied: wasabi<1.1.0,>=0.4.0 in /usr/local/lib/python3.7/dist-packages (from spacy) (0.8.2)\n",
            "Requirement already satisfied: importlib-metadata>=0.20 in /usr/local/lib/python3.7/dist-packages (from catalogue<1.1.0,>=0.0.7->spacy) (4.6.3)\n",
            "Requirement already satisfied: zipp>=0.5 in /usr/local/lib/python3.7/dist-packages (from importlib-metadata>=0.20->catalogue<1.1.0,>=0.0.7->spacy) (3.5.0)\n",
            "Requirement already satisfied: typing-extensions>=3.6.4 in /usr/local/lib/python3.7/dist-packages (from importlib-metadata>=0.20->catalogue<1.1.0,>=0.0.7->spacy) (3.7.4.3)\n",
            "Requirement already satisfied: urllib3!=1.25.0,!=1.25.1,<1.26,>=1.21.1 in /usr/local/lib/python3.7/dist-packages (from requests<3.0.0,>=2.13.0->spacy) (1.24.3)\n",
            "Requirement already satisfied: idna<3,>=2.5 in /usr/local/lib/python3.7/dist-packages (from requests<3.0.0,>=2.13.0->spacy) (2.10)\n",
            "Requirement already satisfied: chardet<4,>=3.0.2 in /usr/local/lib/python3.7/dist-packages (from requests<3.0.0,>=2.13.0->spacy) (3.0.4)\n",
            "Requirement already satisfied: certifi>=2017.4.17 in /usr/local/lib/python3.7/dist-packages (from requests<3.0.0,>=2.13.0->spacy) (2021.5.30)\n"
          ],
          "name": "stdout"
        }
      ]
    },
    {
      "cell_type": "code",
      "metadata": {
        "id": "gVtELm3Equqm"
      },
      "source": [
        "import spacy\n",
        "nlp = spacy.load(\"en_core_web_sm\")"
      ],
      "execution_count": 3,
      "outputs": []
    },
    {
      "cell_type": "code",
      "metadata": {
        "id": "v1ZHPfTdTrok"
      },
      "source": [
        "# https://www.azlyrics.com/lyrics/adele/hello.html\n",
        "lyrics = \"\"\"\n",
        "Hello, it's me\n",
        "I was wondering if after all these years you'd like to meet\n",
        "To go over everything\n",
        "They say that time's supposed to heal ya\n",
        "But I ain't done much healing\n",
        "Hello, can you hear me?\n",
        "I'm in California dreaming about who we used to be\n",
        "When we were younger and free\n",
        "I've forgotten how it felt\n",
        "Before the world fell at our feet\n",
        "\n",
        "There's such a difference between us\n",
        "And a million miles\n",
        "\n",
        "Hello from the other side\n",
        "I must have called a thousand times\n",
        "To tell you I'm sorry for everything that I've done\n",
        "But when I call you never seem to be home\n",
        "Hello from the outside\n",
        "At least I can say that I've tried\n",
        "To tell you I'm sorry for breaking your heart\n",
        "But it don't matter, it clearly doesn't tear you apart\n",
        "Anymore\n",
        "\n",
        "Hello, how are you?\n",
        "It's so typical of me to talk about myself, I'm sorry\n",
        "I hope that you're well\n",
        "Did you ever make it out of that town\n",
        "Where nothing ever happened?\n",
        "\n",
        "It's no secret that the both of us\n",
        "Are running out of time\n",
        "\n",
        "So hello from the other side (other side)\n",
        "I must have called a thousand times (thousand times)\n",
        "To tell you I'm sorry for everything that I've done\n",
        "But when I call you never seem to be home\n",
        "Hello from the outside (outside)\n",
        "At least I can say that I've tried (I've tried)\n",
        "To tell you I'm sorry for breaking your heart\n",
        "But it don't matter, it clearly doesn't tear you apart\n",
        "Anymore\n",
        "\n",
        "(Highs, highs, highs, highs, lows, lows, lows, lows)\n",
        "Anymore\n",
        "(Highs, highs, highs, highs, lows, lows, lows, lows)\n",
        "Anymore\n",
        "(Highs, highs, highs, highs, lows, lows, lows, lows)\n",
        "Anymore\n",
        "(Highs, highs, highs, highs, lows, lows, lows, lows)\n",
        "Anymore\n",
        "\n",
        "Hello from the other side (other side)\n",
        "I must have called a thousand times (thousand times)\n",
        "To tell you I'm sorry for everything that I've done\n",
        "But when I call you never seem to be home\n",
        "Hello from the outside (outside)\n",
        "At least I can say that I've tried (I've tried)\n",
        "To tell you I'm sorry for breaking your heart\n",
        "But it don't matter, it clearly doesn't tear you apart\n",
        "Anymore\n",
        "\"\"\""
      ],
      "execution_count": 5,
      "outputs": []
    },
    {
      "cell_type": "code",
      "metadata": {
        "id": "KhRVM4dvUGPg"
      },
      "source": [
        "doc = nlp(lyrics)\n",
        "filtered_tokens = [token for token in doc if not token.is_stop and not token.is_punct]\n",
        "lemmas = [token.lemma_ for token in filtered_tokens]"
      ],
      "execution_count": 12,
      "outputs": []
    }
  ]
}