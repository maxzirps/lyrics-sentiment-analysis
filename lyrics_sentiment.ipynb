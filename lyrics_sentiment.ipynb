{
  "nbformat": 4,
  "nbformat_minor": 0,
  "metadata": {
    "colab": {
      "name": "lyrics-sentiment.ipynb",
      "provenance": [],
      "collapsed_sections": [],
      "authorship_tag": "ABX9TyPwCzMHeGBMNFJMgNKQJoT2"
    },
    "kernelspec": {
      "name": "python3",
      "display_name": "Python 3"
    },
    "language_info": {
      "name": "python"
    }
  },
  "cells": [
    {
      "cell_type": "markdown",
      "metadata": {
        "id": "u2nouOu-qvQE"
      },
      "source": [
        "# Lyrics sentiment analysis"
      ]
    },
    {
      "cell_type": "code",
      "metadata": {
        "colab": {
          "base_uri": "https://localhost:8080/"
        },
        "id": "c3mFVbtbqkJf",
        "outputId": "2c07610a-d005-46da-c55f-32b177925d38"
      },
      "source": [
        "!pip install spacy pandas seaborn"
      ],
      "execution_count": 1,
      "outputs": [
        {
          "output_type": "stream",
          "text": [
            "Requirement already satisfied: spacy in /usr/local/lib/python3.7/dist-packages (2.2.4)\n",
            "Requirement already satisfied: pandas in /usr/local/lib/python3.7/dist-packages (1.1.5)\n",
            "Requirement already satisfied: seaborn in /usr/local/lib/python3.7/dist-packages (0.11.1)\n",
            "Requirement already satisfied: wasabi<1.1.0,>=0.4.0 in /usr/local/lib/python3.7/dist-packages (from spacy) (0.8.2)\n",
            "Requirement already satisfied: catalogue<1.1.0,>=0.0.7 in /usr/local/lib/python3.7/dist-packages (from spacy) (1.0.0)\n",
            "Requirement already satisfied: numpy>=1.15.0 in /usr/local/lib/python3.7/dist-packages (from spacy) (1.19.5)\n",
            "Requirement already satisfied: cymem<2.1.0,>=2.0.2 in /usr/local/lib/python3.7/dist-packages (from spacy) (2.0.5)\n",
            "Requirement already satisfied: tqdm<5.0.0,>=4.38.0 in /usr/local/lib/python3.7/dist-packages (from spacy) (4.62.0)\n",
            "Requirement already satisfied: setuptools in /usr/local/lib/python3.7/dist-packages (from spacy) (57.4.0)\n",
            "Requirement already satisfied: plac<1.2.0,>=0.9.6 in /usr/local/lib/python3.7/dist-packages (from spacy) (1.1.3)\n",
            "Requirement already satisfied: srsly<1.1.0,>=1.0.2 in /usr/local/lib/python3.7/dist-packages (from spacy) (1.0.5)\n",
            "Requirement already satisfied: requests<3.0.0,>=2.13.0 in /usr/local/lib/python3.7/dist-packages (from spacy) (2.23.0)\n",
            "Requirement already satisfied: preshed<3.1.0,>=3.0.2 in /usr/local/lib/python3.7/dist-packages (from spacy) (3.0.5)\n",
            "Requirement already satisfied: murmurhash<1.1.0,>=0.28.0 in /usr/local/lib/python3.7/dist-packages (from spacy) (1.0.5)\n",
            "Requirement already satisfied: blis<0.5.0,>=0.4.0 in /usr/local/lib/python3.7/dist-packages (from spacy) (0.4.1)\n",
            "Requirement already satisfied: thinc==7.4.0 in /usr/local/lib/python3.7/dist-packages (from spacy) (7.4.0)\n",
            "Requirement already satisfied: importlib-metadata>=0.20 in /usr/local/lib/python3.7/dist-packages (from catalogue<1.1.0,>=0.0.7->spacy) (4.6.4)\n",
            "Requirement already satisfied: zipp>=0.5 in /usr/local/lib/python3.7/dist-packages (from importlib-metadata>=0.20->catalogue<1.1.0,>=0.0.7->spacy) (3.5.0)\n",
            "Requirement already satisfied: typing-extensions>=3.6.4 in /usr/local/lib/python3.7/dist-packages (from importlib-metadata>=0.20->catalogue<1.1.0,>=0.0.7->spacy) (3.7.4.3)\n",
            "Requirement already satisfied: certifi>=2017.4.17 in /usr/local/lib/python3.7/dist-packages (from requests<3.0.0,>=2.13.0->spacy) (2021.5.30)\n",
            "Requirement already satisfied: idna<3,>=2.5 in /usr/local/lib/python3.7/dist-packages (from requests<3.0.0,>=2.13.0->spacy) (2.10)\n",
            "Requirement already satisfied: urllib3!=1.25.0,!=1.25.1,<1.26,>=1.21.1 in /usr/local/lib/python3.7/dist-packages (from requests<3.0.0,>=2.13.0->spacy) (1.24.3)\n",
            "Requirement already satisfied: chardet<4,>=3.0.2 in /usr/local/lib/python3.7/dist-packages (from requests<3.0.0,>=2.13.0->spacy) (3.0.4)\n",
            "Requirement already satisfied: python-dateutil>=2.7.3 in /usr/local/lib/python3.7/dist-packages (from pandas) (2.8.2)\n",
            "Requirement already satisfied: pytz>=2017.2 in /usr/local/lib/python3.7/dist-packages (from pandas) (2018.9)\n",
            "Requirement already satisfied: six>=1.5 in /usr/local/lib/python3.7/dist-packages (from python-dateutil>=2.7.3->pandas) (1.15.0)\n",
            "Requirement already satisfied: matplotlib>=2.2 in /usr/local/lib/python3.7/dist-packages (from seaborn) (3.2.2)\n",
            "Requirement already satisfied: scipy>=1.0 in /usr/local/lib/python3.7/dist-packages (from seaborn) (1.4.1)\n",
            "Requirement already satisfied: kiwisolver>=1.0.1 in /usr/local/lib/python3.7/dist-packages (from matplotlib>=2.2->seaborn) (1.3.1)\n",
            "Requirement already satisfied: pyparsing!=2.0.4,!=2.1.2,!=2.1.6,>=2.0.1 in /usr/local/lib/python3.7/dist-packages (from matplotlib>=2.2->seaborn) (2.4.7)\n",
            "Requirement already satisfied: cycler>=0.10 in /usr/local/lib/python3.7/dist-packages (from matplotlib>=2.2->seaborn) (0.10.0)\n"
          ],
          "name": "stdout"
        }
      ]
    },
    {
      "cell_type": "code",
      "metadata": {
        "id": "dpg8O6F8H9cy"
      },
      "source": [
        "import spacy\n",
        "import pandas as pd\n",
        "import seaborn as sns\n",
        "import matplotlib.pyplot as plt\n",
        "sns.set_theme(palette=\"Blues_r\", style=\"white\")"
      ],
      "execution_count": 2,
      "outputs": []
    },
    {
      "cell_type": "markdown",
      "metadata": {
        "id": "0JlBnXMsFxt4"
      },
      "source": [
        "## Loading the data\n",
        "\n",
        "We are gonna use the [musiXmatch Dataset](http://millionsongdataset.com/musixmatch/), which consists of 779k lyrics in a bag-of-word format. Additional information can be gathered by looking up the ID in the [Million Song Dataset](http://millionsongdataset.com/)."
      ]
    },
    {
      "cell_type": "code",
      "metadata": {
        "id": "v1ZHPfTdTrok",
        "colab": {
          "base_uri": "https://localhost:8080/"
        },
        "outputId": "839f8271-4178-4745-f215-f45e72e7d5d4"
      },
      "source": [
        "from google.colab import drive\n",
        "drive.mount('/content/gdrive')\n"
      ],
      "execution_count": 4,
      "outputs": [
        {
          "output_type": "stream",
          "text": [
            "Drive already mounted at /content/gdrive; to attempt to forcibly remount, call drive.mount(\"/content/gdrive\", force_remount=True).\n"
          ],
          "name": "stdout"
        }
      ]
    },
    {
      "cell_type": "code",
      "metadata": {
        "colab": {
          "base_uri": "https://localhost:8080/"
        },
        "id": "ABBtgVvBYCGN",
        "outputId": "9b38b351-e978-49d2-c11b-021dcd55b5c7"
      },
      "source": [
        "cd gdrive/MyDrive/mxm"
      ],
      "execution_count": 9,
      "outputs": [
        {
          "output_type": "stream",
          "text": [
            "/content/gdrive/MyDrive/mxm\n"
          ],
          "name": "stdout"
        }
      ]
    },
    {
      "cell_type": "markdown",
      "metadata": {
        "id": "69kVnCicN7zb"
      },
      "source": [
        "Load train and test lyrics data"
      ]
    },
    {
      "cell_type": "code",
      "metadata": {
        "id": "awDX0YbiH52R"
      },
      "source": [
        "# Line looks like this track_id, mxm track id, w_id1:wc1, w_id2: wc2, ...\n",
        "# TRAAAAV128F421A322,4623710,1:6,2:4,...\n",
        "\n",
        "train_file_path = \"mxm_dataset_train.txt\"\n",
        "test_file_path = \"mxm_dataset_test.txt\"\n",
        "\n",
        "def word_counts_to_dict(words):\n",
        "  res = {}\n",
        "  for word_with_count in words:\n",
        "    word, count = word_with_count.split(\":\")\n",
        "    res[word] = int(count)\n",
        "  return res\n",
        "\n",
        "def load_lyrics_word_bag(file_path):\n",
        "  with open(file_path) as file:\n",
        "    res = []\n",
        "    for line in file.readlines():\n",
        "      # skip comment or top words line\n",
        "      if line.startswith(\"#\") or line.startswith(\"%\"):\n",
        "        continue\n",
        "      track_id_msd, track_id_mxm, *words = line.split(\",\")\n",
        "      res.append({\"track_id_msd\": track_id_msd.strip(), \"track_id_mxm\": track_id_mxm.strip(), \"word_counts\": word_counts_to_dict(words)})\n",
        "    return res\n",
        "\n",
        "train = load_lyrics_word_bag(train_file_path)\n",
        "test = load_lyrics_word_bag(test_file_path)"
      ],
      "execution_count": 10,
      "outputs": []
    },
    {
      "cell_type": "markdown",
      "metadata": {
        "id": "yr1Tp8BpN-YU"
      },
      "source": [
        "Load additional information"
      ]
    },
    {
      "cell_type": "code",
      "metadata": {
        "id": "3pCjlySKN1bm"
      },
      "source": [
        "# Million Song Dataset\n",
        "msd_df = None\n",
        "\n",
        "msd_file_path = \"mxm_779k_matches.txt\"\n",
        "\n",
        "\n",
        "# Format\n",
        "#     #    -> comment, ignore\n",
        "#     tid|artist name|title|mxm tid|artist_name|title\n",
        "#        tid          -> Million Song Dataset track ID\n",
        "#        artist name  -> artist name in the MSD\n",
        "#        title        -> title in the MSD\n",
        "#        mxm tid      -> musiXmatch track ID\n",
        "#        artist name  -> artist name for mXm\n",
        "#        title        -> title for mXm\n",
        "#        |            -> actual separator: <SEP>\n",
        "# TRMMMKD128F425225D<SEP>Karkkiautomaatti<SEP>Tanssi vaan<SEP>4418550<SEP>Karkkiautomaatti<SEP>Tanssi vaan\n",
        "\n",
        "with open(msd_file_path) as file:\n",
        "  res = []\n",
        "  for line in file.readlines():\n",
        "    # skip comments\n",
        "    if line.startswith(\"#\"):\n",
        "      continue\n",
        "    track_id_msd, artist_name_msd, title_msd, track_id_mxm, artist_name_mxm, title_mxm = line.split(\"<SEP>\")\n",
        "    res.append({\"track_id_msd\": track_id_msd.strip(), \"artist_name_msd\": artist_name_msd.strip(), \"title_msd\": title_msd.strip(), \n",
        "                \"track_id_mxm\": track_id_mxm.strip(), \"artist_name_mxm\": artist_name_mxm.strip(),})\n",
        "  msd_df = pd.DataFrame(res)\n"
      ],
      "execution_count": 11,
      "outputs": []
    },
    {
      "cell_type": "markdown",
      "metadata": {
        "id": "Kasrsh_ERiHf"
      },
      "source": [
        "Add genre information"
      ]
    },
    {
      "cell_type": "code",
      "metadata": {
        "id": "rGJrz9fVRjeh"
      },
      "source": [
        "genre_df = None\n",
        "\n",
        "# FORMAT: # - denotes a comment\n",
        "#          % - one line after comments, column names\n",
        "#            - rest is data, comma-separated, one line per song\n",
        "# %genre,track_id,artist_name,title,loudness,tempo,time_signature,key,mode,duration,avg_timbre1,avg_timbre2,avg_timbre3,avg_timbre4,avg_timbre5,avg_timbre6,avg_timbre7,avg_timbre8,avg_timbre9,avg_timbre10,avg_timbre11,avg_timbre12,var_timbre1,var_timbre2,var_timbre3,var_timbre4,var_timbre5,var_timbre6,var_timbre7,var_timbre8,var_timbre9,var_timbre10,var_timbre11,var_timbre12\n",
        "# classic pop and rock,TRFCOOU128F427AEC0,Blue Oyster Cult,Mes Dames \n",
        "\n",
        "\n",
        "genre_file_path = \"msd_genre_dataset.txt\"\n",
        "\n",
        "with open(genre_file_path) as file:\n",
        "  res = []\n",
        "  for line in file.readlines():\n",
        "    # skip comments and description\n",
        "    # Since line 10 starts with - but is still description, we also need to skip it\n",
        "    if line.startswith(\"#\") or line.strip().startswith(\"%\") or line.strip().startswith(\"-\"):\n",
        "      continue\n",
        "    genre, track_id_msd, *_ = line.split(\",\")\n",
        "    res.append({\"track_id_msd\": track_id_msd.strip(), \"genre\": genre})\n",
        "  genre_df = pd.DataFrame(res)"
      ],
      "execution_count": 12,
      "outputs": []
    },
    {
      "cell_type": "markdown",
      "metadata": {
        "id": "w_KmkafHRsUI"
      },
      "source": [
        "Merge them"
      ]
    },
    {
      "cell_type": "code",
      "metadata": {
        "id": "5idLH2D0RtYO"
      },
      "source": [
        "# Add validation so each song gets a genre assigned\n",
        "msd_genre_df = pd.merge(msd_df, genre_df, validate=\"one_to_many\")"
      ],
      "execution_count": 13,
      "outputs": []
    },
    {
      "cell_type": "code",
      "metadata": {
        "colab": {
          "base_uri": "https://localhost:8080/",
          "height": 204
        },
        "id": "OQwicIirPfcw",
        "outputId": "3f4a4a1c-6a1f-4cfd-f6f0-5e0f932d3265"
      },
      "source": [
        "msd_genre_df.head()"
      ],
      "execution_count": 14,
      "outputs": [
        {
          "output_type": "execute_result",
          "data": {
            "text/html": [
              "<div>\n",
              "<style scoped>\n",
              "    .dataframe tbody tr th:only-of-type {\n",
              "        vertical-align: middle;\n",
              "    }\n",
              "\n",
              "    .dataframe tbody tr th {\n",
              "        vertical-align: top;\n",
              "    }\n",
              "\n",
              "    .dataframe thead th {\n",
              "        text-align: right;\n",
              "    }\n",
              "</style>\n",
              "<table border=\"1\" class=\"dataframe\">\n",
              "  <thead>\n",
              "    <tr style=\"text-align: right;\">\n",
              "      <th></th>\n",
              "      <th>track_id_msd</th>\n",
              "      <th>artist_name_msd</th>\n",
              "      <th>title_msd</th>\n",
              "      <th>track_id_mxm</th>\n",
              "      <th>artist_name_mxm</th>\n",
              "      <th>genre</th>\n",
              "    </tr>\n",
              "  </thead>\n",
              "  <tbody>\n",
              "    <tr>\n",
              "      <th>0</th>\n",
              "      <td>TRMMMUT128F42646E8</td>\n",
              "      <td>Shawn Colvin</td>\n",
              "      <td>(Looking For) The Heart Of Saturday</td>\n",
              "      <td>674743</td>\n",
              "      <td>Shawn Colvin</td>\n",
              "      <td>folk</td>\n",
              "    </tr>\n",
              "    <tr>\n",
              "      <th>1</th>\n",
              "      <td>TRMMMGL128F92FD6AB</td>\n",
              "      <td>Clifford T. Ward</td>\n",
              "      <td>Mad About You</td>\n",
              "      <td>6821012</td>\n",
              "      <td>Clifford T. Ward</td>\n",
              "      <td>classic pop and rock</td>\n",
              "    </tr>\n",
              "    <tr>\n",
              "      <th>2</th>\n",
              "      <td>TRMMWNY12903CF28D2</td>\n",
              "      <td>Warren Zevon</td>\n",
              "      <td>The Rest of the Night</td>\n",
              "      <td>1576953</td>\n",
              "      <td>Warren Zevon</td>\n",
              "      <td>classic pop and rock</td>\n",
              "    </tr>\n",
              "    <tr>\n",
              "      <th>3</th>\n",
              "      <td>TRMMWQU12903CF447F</td>\n",
              "      <td>Diablo Swing Orchestra</td>\n",
              "      <td>Lucy Fears the Morning Star</td>\n",
              "      <td>8859768</td>\n",
              "      <td>Diablo Swing Orchestra</td>\n",
              "      <td>metal</td>\n",
              "    </tr>\n",
              "    <tr>\n",
              "      <th>4</th>\n",
              "      <td>TRMMWHJ128F42869B2</td>\n",
              "      <td>The Surfaris</td>\n",
              "      <td>Wipeout</td>\n",
              "      <td>13843656</td>\n",
              "      <td>The Surfaris</td>\n",
              "      <td>classic pop and rock</td>\n",
              "    </tr>\n",
              "  </tbody>\n",
              "</table>\n",
              "</div>"
            ],
            "text/plain": [
              "         track_id_msd  ...                 genre\n",
              "0  TRMMMUT128F42646E8  ...                  folk\n",
              "1  TRMMMGL128F92FD6AB  ...  classic pop and rock\n",
              "2  TRMMWNY12903CF28D2  ...  classic pop and rock\n",
              "3  TRMMWQU12903CF447F  ...                 metal\n",
              "4  TRMMWHJ128F42869B2  ...  classic pop and rock\n",
              "\n",
              "[5 rows x 6 columns]"
            ]
          },
          "metadata": {},
          "execution_count": 14
        }
      ]
    },
    {
      "cell_type": "markdown",
      "metadata": {
        "id": "oDYAD99NQKJ8"
      },
      "source": [
        "Check for missing values"
      ]
    },
    {
      "cell_type": "code",
      "metadata": {
        "colab": {
          "base_uri": "https://localhost:8080/"
        },
        "id": "bPrDflUmPkZD",
        "outputId": "68e0de59-1168-4f4a-b3f7-9a61c12b6f2b"
      },
      "source": [
        "msd_genre_df.isna().sum()"
      ],
      "execution_count": 15,
      "outputs": [
        {
          "output_type": "execute_result",
          "data": {
            "text/plain": [
              "track_id_msd       0\n",
              "artist_name_msd    0\n",
              "title_msd          0\n",
              "track_id_mxm       0\n",
              "artist_name_mxm    0\n",
              "genre              0\n",
              "dtype: int64"
            ]
          },
          "metadata": {},
          "execution_count": 15
        }
      ]
    },
    {
      "cell_type": "markdown",
      "metadata": {
        "id": "t4tNJ6m-U0NM"
      },
      "source": [
        "Take a look at genre distribution"
      ]
    },
    {
      "cell_type": "code",
      "metadata": {
        "colab": {
          "base_uri": "https://localhost:8080/",
          "height": 302
        },
        "id": "S77w1CXuUmkz",
        "outputId": "319f3e50-6b59-4ada-a3c1-01e21bc3f737"
      },
      "source": [
        "sns.histplot(y=msd_genre_df[\"genre\"])"
      ],
      "execution_count": 26,
      "outputs": [
        {
          "output_type": "execute_result",
          "data": {
            "text/plain": [
              "<matplotlib.axes._subplots.AxesSubplot at 0x7fe38d9c4990>"
            ]
          },
          "metadata": {},
          "execution_count": 26
        },
        {
          "output_type": "display_data",
          "data": {
            "image/png": "[encoded data removed]",
            "text/plain": [
              "<Figure size 432x288 with 1 Axes>"
            ]
          },
          "metadata": {}
        }
      ]
    },
    {
      "cell_type": "markdown",
      "metadata": {
        "id": "UGz98GdmUlRu"
      },
      "source": [
        "Calculate doc score for each lyric and cluster them; Let's see if genres are clustered together in general"
      ]
    },
    {
      "cell_type": "code",
      "metadata": {
        "id": "gVtELm3Equqm"
      },
      "source": [
        "nlp = spacy.load(\"en_core_web_sm\")"
      ],
      "execution_count": 17,
      "outputs": []
    },
    {
      "cell_type": "code",
      "metadata": {
        "id": "KhRVM4dvUGPg"
      },
      "source": [
        "doc = nlp(lyrics)\n",
        "filtered_tokens = [token for token in doc if not token.is_stop and not token.is_punct]\n",
        "lemmas = [token.lemma_ for token in filtered_tokens]"
      ],
      "execution_count": null,
      "outputs": []
    }
  ]
}